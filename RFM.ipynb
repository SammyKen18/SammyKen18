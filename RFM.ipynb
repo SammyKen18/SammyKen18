{
  "nbformat": 4,
  "nbformat_minor": 0,
  "metadata": {
    "kernelspec": {
      "display_name": "Python 3",
      "language": "python",
      "name": "python3"
    },
    "language_info": {
      "codemirror_mode": {
        "name": "ipython",
        "version": 3
      },
      "file_extension": ".py",
      "mimetype": "text/x-python",
      "name": "python",
      "nbconvert_exporter": "python",
      "pygments_lexer": "ipython3",
      "version": "3.8.5"
    },
    "colab": {
      "name": "Copy of bigquery_notebook.ipynb",
      "provenance": [],
      "include_colab_link": true
    }
  },
  "cells": [
    {
      "cell_type": "markdown",
      "metadata": {
        "id": "view-in-github",
        "colab_type": "text"
      },
      "source": [
        "<a href=\"https://colab.research.google.com/github/SammyKen18/SammyKen18/blob/main/RFM.ipynb\" target=\"_parent\"><img src=\"https://colab.research.google.com/assets/colab-badge.svg\" alt=\"Open In Colab\"/></a>"
      ]
    },
    {
      "cell_type": "code",
      "metadata": {
        "colab": {
          "base_uri": "https://localhost:8080/"
        },
        "id": "xTgB5I-pasms",
        "outputId": "f7549a3b-514d-4fbd-a104-403171006719"
      },
      "source": [
        "from google.colab import auth\n",
        "auth.authenticate_user()\n",
        "print('Authenticated')"
      ],
      "execution_count": null,
      "outputs": [
        {
          "output_type": "stream",
          "text": [
            "Authenticated\n"
          ],
          "name": "stdout"
        }
      ]
    },
    {
      "cell_type": "code",
      "metadata": {
        "colab": {
          "base_uri": "https://localhost:8080/"
        },
        "id": "hrSTAdGIejTQ",
        "outputId": "c0aac04b-89c3-47db-ffa1-3dc5a7e81d85"
      },
      "source": [
        "from google.colab import drive\n",
        "drive.mount('/content/gdrive')"
      ],
      "execution_count": null,
      "outputs": [
        {
          "output_type": "stream",
          "text": [
            "Mounted at /content/gdrive\n"
          ],
          "name": "stdout"
        }
      ]
    },
    {
      "cell_type": "code",
      "metadata": {
        "id": "Ptbhea_tegeO"
      },
      "source": [
        "import google.cloud.bigquery.magics\n",
        "# Google Auth \n",
        "import google.auth\n",
        "from google.cloud import bigquery\n",
        "from google.cloud import bigquery_storage"
      ],
      "execution_count": null,
      "outputs": []
    },
    {
      "cell_type": "code",
      "metadata": {
        "id": "0eh3xiD6asmv"
      },
      "source": [
        "%reload_ext google.cloud.bigquery"
      ],
      "execution_count": null,
      "outputs": []
    },
    {
      "cell_type": "code",
      "metadata": {
        "id": "TBB8V99pasmw"
      },
      "source": [
        "credentials, your_project_id = google.auth.default(scopes=[\"https://www.googleapis.com/auth/cloud-platform\"])"
      ],
      "execution_count": null,
      "outputs": []
    },
    {
      "cell_type": "code",
      "metadata": {
        "id": "vIsAaZCjasmx"
      },
      "source": [
        "bqclient = bigquery.Client(credentials=credentials, project=\"ww-analytics\",)\n",
        "bqstorageclient = bigquery_storage.BigQueryReadClient(credentials=credentials)"
      ],
      "execution_count": null,
      "outputs": []
    },
    {
      "cell_type": "code",
      "metadata": {
        "id": "ofvwIO7Qasmy"
      },
      "source": [
        "  \n",
        "query_string = \"\"\"\n",
        "SELECT *\n",
        "FROM  `ww-analytics.snurmohamed.Eccom_RFM`\n",
        "\"\"\"\n"
      ],
      "execution_count": null,
      "outputs": []
    },
    {
      "cell_type": "code",
      "metadata": {
        "id": "F0WYp45vj_LW"
      },
      "source": [
        "dataframe = (\n",
        "    bqclient.query(query_string)\n",
        "    .result()\n",
        "    .to_dataframe()\n",
        ")"
      ],
      "execution_count": null,
      "outputs": []
    },
    {
      "cell_type": "code",
      "metadata": {
        "colab": {
          "base_uri": "https://localhost:8080/"
        },
        "id": "1kEhQWQghBL6",
        "outputId": "01dd6403-5bda-48d7-f063-1af43771201f"
      },
      "source": [
        "print(dataframe.head())"
      ],
      "execution_count": null,
      "outputs": [
        {
          "output_type": "stream",
          "text": [
            "  InvoiceDate    InvoiceNo  ... TotalSum items\n",
            "0  2021-03-24  48011349835  ...  31.9896    29\n",
            "1  2021-03-24  48011335837  ...  66.8895    33\n",
            "2  2021-03-24  48011341290  ...  37.9500    25\n",
            "3  2021-03-24  48011334637  ...  37.1989    27\n",
            "4  2021-03-24  48011330115  ...  32.2000    23\n",
            "\n",
            "[5 rows x 6 columns]\n"
          ],
          "name": "stdout"
        }
      ]
    }
  ]
}